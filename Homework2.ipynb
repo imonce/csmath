{
 "cells": [
  {
   "cell_type": "code",
   "execution_count": 33,
   "metadata": {
    "collapsed": false
   },
   "outputs": [],
   "source": [
    "import numpy as np\n",
    "import matplotlib.pyplot as plt\n",
    "%matplotlib inline\n",
    "\n",
    "# A Simple wrapper class loading UCI dataset.\n",
    "class DigitDataset(object):\n",
    "    def __init__(self, path, n_class=None):\n",
    "        with open(path) as f:\n",
    "            self.raw = f.readlines()\n",
    "        self.magic = 21\n",
    "        self.n_class = n_class\n",
    "    \n",
    "    def _convert(self, str_line):\n",
    "        str_line = str_line.strip()\n",
    "        return np.array(list(str_line), dtype=np.uint8)\n",
    "    \n",
    "    def _load_samples(self, idx):\n",
    "        data = np.array([self._convert(i) for i in self.raw[idx: idx+32]])\n",
    "        label = int(self.raw[idx+32].strip())\n",
    "        \n",
    "        return data, label\n",
    "        \n",
    "    def load_datasets(self):\n",
    "        self.data = []\n",
    "        self.target = []\n",
    "        \n",
    "        for i in range(self.magic, len(self.raw), 33):\n",
    "            data, label = self._load_samples(i)\n",
    "            self.data.append(data)\n",
    "            self.target.append(label)\n",
    "        \n",
    "        self.data = np.array(self.data)\n",
    "        self.target = np.array(self.target)\n",
    "        # In case, we want to access specific number of opt-digit\n",
    "        if self.n_class:\n",
    "            idx = np.where(self.target == self.n_class)\n",
    "            self.data = self.data[idx]\n",
    "            self.target = self.target[idx]"
   ]
  }
 ],
 "metadata": {
  "anaconda-cloud": {},
  "kernelspec": {
   "display_name": "Python [conda root]",
   "language": "python",
   "name": "conda-root-py"
  },
  "language_info": {
   "codemirror_mode": {
    "name": "ipython",
    "version": 3
   },
   "file_extension": ".py",
   "mimetype": "text/x-python",
   "name": "python",
   "nbconvert_exporter": "python",
   "pygments_lexer": "ipython3",
   "version": "3.5.2"
  }
 },
 "nbformat": 4,
 "nbformat_minor": 1
}
